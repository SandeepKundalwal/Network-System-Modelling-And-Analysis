{
 "cells": [
  {
   "cell_type": "code",
   "execution_count": 10,
   "metadata": {},
   "outputs": [],
   "source": [
    "import numpy as np;\n",
    "from numpy.linalg import eig\n",
    "import networkx as nx"
   ]
  },
  {
   "cell_type": "markdown",
   "metadata": {},
   "source": [
    "Function To Find Pagerank Centrality"
   ]
  },
  {
   "cell_type": "code",
   "execution_count": 11,
   "metadata": {},
   "outputs": [],
   "source": [
    "def find_pagerank_centrality(G):\n",
    "    return nx.pagerank(G, weight=None, alpha=0.85, max_iter=100000)"
   ]
  },
  {
   "cell_type": "markdown",
   "metadata": {},
   "source": [
    "Function To Find Katz Centrality"
   ]
  },
  {
   "cell_type": "code",
   "execution_count": 20,
   "metadata": {},
   "outputs": [],
   "source": [
    "def find_katz_centrality(graph):\n",
    "    eigen_value, eigen_vector = eig(graph)\n",
    "    max_eigen_value = max(eigen_value)\n",
    "    G = nx.from_numpy_array(graph)\n",
    "    return nx.katz_centrality(G, weight= None, alpha = 1/(max_eigen_value+1), max_iter = 100000)"
   ]
  },
  {
   "cell_type": "markdown",
   "metadata": {},
   "source": [
    "Function To Find EigenVectors Centrality"
   ]
  },
  {
   "cell_type": "code",
   "execution_count": 13,
   "metadata": {},
   "outputs": [],
   "source": [
    "def find_eigenvector_centrality(G):\n",
    "    return nx.eigenvector_centrality_numpy(G)"
   ]
  },
  {
   "cell_type": "markdown",
   "metadata": {},
   "source": [
    "Function To Find Degree Centrality"
   ]
  },
  {
   "cell_type": "code",
   "execution_count": 14,
   "metadata": {},
   "outputs": [],
   "source": [
    "def find_degree_centrality(G):\n",
    "    return nx.degree_centrality(G) "
   ]
  },
  {
   "cell_type": "code",
   "execution_count": 22,
   "metadata": {},
   "outputs": [
    {
     "name": "stdout",
     "output_type": "stream",
     "text": [
      "------------------------------------------ Complete Graph ------------------------------------------\n",
      "Degree Centrality: \n",
      " {0: 1.0, 1: 1.0, 2: 1.0, 3: 1.0, 4: 1.0}\n",
      "Eigen Vector Centrality: \n",
      " {0: 0.447213595499958, 1: 0.44721359549995776, 2: 0.447213595499958, 3: 0.44721359549995804, 4: 0.447213595499958}\n",
      "Katz Centrality:  {0: 0.4472135954999579, 1: 0.4472135954999579, 2: 0.4472135954999579, 3: 0.4472135954999579, 4: 0.4472135954999579}\n",
      "Page Rank Centrality:  {0: 0.2, 1: 0.2, 2: 0.2, 3: 0.2, 4: 0.2}\n",
      "\n",
      "------------------------------------------ Cycle Graph ------------------------------------------\n",
      "Degree Centrality: \n",
      " {0: 0.5, 1: 0.5, 2: 0.5, 3: 0.5, 4: 0.5}\n",
      "Eigen Vector Centrality: \n",
      " {0: 0.4472135954999581, 1: 0.447213595499958, 2: 0.447213595499958, 3: 0.4472135954999578, 4: 0.447213595499958}\n",
      "Katz Centrality:  {0: 0.447213595499958, 1: 0.447213595499958, 2: 0.447213595499958, 3: 0.447213595499958, 4: 0.447213595499958}\n",
      "Page Rank Centrality:  {0: 0.2, 1: 0.2, 2: 0.2, 3: 0.2, 4: 0.2}\n",
      "\n",
      "------------------------------------------ Star Graph ------------------------------------------\n",
      "Degree Centrality: \n",
      " {0: 1.0, 1: 0.25, 2: 0.25, 3: 0.25, 4: 0.25}\n",
      "Eigen Vector Centrality: \n",
      " {0: 0.7071067811865477, 1: 0.3535533905932736, 2: 0.35355339059327373, 3: 0.35355339059327373, 4: 0.3535533905932736}\n",
      "Katz Centrality:  {0: 0.6585046078685182, 1: 0.37628834735343897, 2: 0.37628834735343897, 3: 0.37628834735343897, 4: 0.37628834735343897}\n",
      "Page Rank Centrality:  {0: 0.47567668878363595, 1: 0.13108082780409108, 2: 0.13108082780409108, 3: 0.13108082780409108, 4: 0.13108082780409108}\n",
      "\n"
     ]
    }
   ],
   "source": [
    "# Defining the 3 different graphs.\n",
    "\n",
    "# Complete graph\n",
    "complete_graph = np.array([\n",
    "    [0, 1, 1, 1, 1],\n",
    "    [1, 0, 1, 1, 1],\n",
    "    [1, 1, 0, 1, 1],\n",
    "    [1, 1, 1, 0, 1],\n",
    "    [1, 1, 1, 1, 0]\n",
    "])\n",
    "\n",
    "# Cycle graph\n",
    "cycle_graph = np.array([\n",
    "    [0, 1, 0, 0, 1],\n",
    "    [1, 0, 1, 0, 0],\n",
    "    [0, 1, 0, 1, 0],\n",
    "    [0, 0, 1, 0, 1],\n",
    "    [1, 0, 0, 1, 0]\n",
    "])\n",
    "\n",
    "\n",
    "# Star topology\n",
    "star_graph = np.array([\n",
    "    [0, 1, 1, 1, 1],\n",
    "    [1, 0, 0, 0, 0],\n",
    "    [1, 0, 0, 0, 0],\n",
    "    [1, 0, 0, 0, 0],\n",
    "    [1, 0, 0, 0, 0]\n",
    "])\n",
    "\n",
    "index = 0\n",
    "graphs = [complete_graph, cycle_graph, star_graph]\n",
    "\n",
    "for graph in graphs:\n",
    "    G = nx.from_numpy_array(graph)\n",
    "    print(\"------------------------------------------ Complete Graph ------------------------------------------\") if index == 0 else print(\"------------------------------------------ Cycle Graph ------------------------------------------\") if index == 1 else print(\"------------------------------------------ Star Graph ------------------------------------------\")\n",
    "    print(\"Degree Centrality: \\n\", find_degree_centrality(G))\n",
    "    print(\"Eigen Vector Centrality: \\n\", find_eigenvector_centrality(G))\n",
    "    print(\"Katz Centrality: \", find_katz_centrality(graph))\n",
    "    print(\"Page Rank Centrality: \", find_pagerank_centrality(G))\n",
    "    print()\n",
    "    index += 1\n"
   ]
  }
 ],
 "metadata": {
  "kernelspec": {
   "display_name": "Python 3",
   "language": "python",
   "name": "python3"
  },
  "language_info": {
   "codemirror_mode": {
    "name": "ipython",
    "version": 3
   },
   "file_extension": ".py",
   "mimetype": "text/x-python",
   "name": "python",
   "nbconvert_exporter": "python",
   "pygments_lexer": "ipython3",
   "version": "3.8.0"
  }
 },
 "nbformat": 4,
 "nbformat_minor": 2
}
