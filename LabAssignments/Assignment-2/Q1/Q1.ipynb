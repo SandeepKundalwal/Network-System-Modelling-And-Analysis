{
 "cells": [
  {
   "cell_type": "code",
   "execution_count": 58,
   "metadata": {},
   "outputs": [],
   "source": [
    "import numpy as np;\n",
    "from numpy.linalg import eig\n",
    "import networkx as nx"
   ]
  },
  {
   "cell_type": "markdown",
   "metadata": {},
   "source": [
    "Function To Find Pagerank Centrality"
   ]
  },
  {
   "cell_type": "code",
   "execution_count": 59,
   "metadata": {},
   "outputs": [],
   "source": [
    "def find_pagerank_centrality(graph):\n",
    "    G = nx.from_numpy_array(graph)\n",
    "    pr = nx.pagerank(G, weight=None, alpha=0.85, max_iter=100000)\n",
    "    \n",
    "    return pr"
   ]
  },
  {
   "cell_type": "markdown",
   "metadata": {},
   "source": [
    "Function To Find Katz Centrality"
   ]
  },
  {
   "cell_type": "code",
   "execution_count": 60,
   "metadata": {},
   "outputs": [],
   "source": [
    "def find_katz_centrality(graph, eigen_value):\n",
    "    max_eigen_value = max(eigen_value)\n",
    "    G = nx.from_numpy_array(graph)    \n",
    "    katz_centrality = nx.katz_centrality(G, weight= None, alpha = 1/(max_eigen_value+1), max_iter = 100000)\n",
    "    \n",
    "    return katz_centrality"
   ]
  },
  {
   "cell_type": "markdown",
   "metadata": {},
   "source": [
    "Function To Find EigenValue & EigenVectors"
   ]
  },
  {
   "cell_type": "code",
   "execution_count": 61,
   "metadata": {},
   "outputs": [],
   "source": [
    "def find_eigens(graph):\n",
    "    eigen_value, eigen_vector = eig(graph)\n",
    "    \n",
    "    return eigen_value, eigen_vector"
   ]
  },
  {
   "cell_type": "markdown",
   "metadata": {},
   "source": [
    "Function To Find Degree Of An Undirected Unweighted Graph"
   ]
  },
  {
   "cell_type": "code",
   "execution_count": 63,
   "metadata": {},
   "outputs": [],
   "source": [
    "def get_degree_graph(graph):\n",
    "    degree_graph = np.zeros((5,5))\n",
    "\n",
    "    index = 0;\n",
    "    for row in graph:\n",
    "        degree = 0\n",
    "        for element in row:\n",
    "            if element != 0:\n",
    "                degree += 1\n",
    "        \n",
    "        degree_graph[index][index] = degree\n",
    "        index += 1\n",
    "\n",
    "    return degree_graph \n",
    "        "
   ]
  },
  {
   "cell_type": "code",
   "execution_count": 69,
   "metadata": {},
   "outputs": [
    {
     "name": "stdout",
     "output_type": "stream",
     "text": [
      "------------------------------------------ Complete Graph ------------------------------------------\n",
      "Degree Graph: \n",
      " [[4. 0. 0. 0. 0.]\n",
      " [0. 4. 0. 0. 0.]\n",
      " [0. 0. 4. 0. 0.]\n",
      " [0. 0. 0. 4. 0.]\n",
      " [0. 0. 0. 0. 4.]]\n",
      "Eigen Vector: \n",
      " [[-0.89442719  0.4472136   0.19518001  0.15432036  0.09319422]\n",
      " [ 0.2236068   0.4472136  -0.53674504  0.73302172 -0.25628411]\n",
      " [ 0.2236068   0.4472136   0.76445506  0.04715344 -0.25628411]\n",
      " [ 0.2236068   0.4472136  -0.21144502 -0.46724776 -0.41160781]\n",
      " [ 0.2236068   0.4472136  -0.21144502 -0.46724776  0.8309818 ]]\n",
      "Katz Centrality:  {0: 0.4472135954999579, 1: 0.4472135954999579, 2: 0.4472135954999579, 3: 0.4472135954999579, 4: 0.4472135954999579}\n",
      "Page Rank Centrality:  {0: 0.2, 1: 0.2, 2: 0.2, 3: 0.2, 4: 0.2}\n",
      "\n",
      "------------------------------------------ Cycle Graph ------------------------------------------\n",
      "Degree Graph: \n",
      " [[2. 0. 0. 0. 0.]\n",
      " [0. 2. 0. 0. 0.]\n",
      " [0. 0. 2. 0. 0.]\n",
      " [0. 0. 0. 2. 0.]\n",
      " [0. 0. 0. 0. 2.]]\n",
      "Eigen Vector: \n",
      " [[ 0.63245553 -0.63245553 -0.4472136  -0.03239904  0.07384113]\n",
      " [-0.51166727 -0.19543951 -0.4472136   0.39747131  0.62020544]\n",
      " [ 0.19543951  0.51166727 -0.4472136  -0.61072305  0.30946691]\n",
      " [ 0.19543951  0.51166727 -0.4472136   0.59069934 -0.42894437]\n",
      " [-0.51166727 -0.19543951 -0.4472136  -0.34504856 -0.57456911]]\n",
      "Katz Centrality:  {0: 0.447213595499958, 1: 0.447213595499958, 2: 0.447213595499958, 3: 0.447213595499958, 4: 0.447213595499958}\n",
      "Page Rank Centrality:  {0: 0.2, 1: 0.2, 2: 0.2, 3: 0.2, 4: 0.2}\n",
      "\n",
      "------------------------------------------ Star Graph ------------------------------------------\n",
      "Degree Graph: \n",
      " [[4. 0. 0. 0. 0.]\n",
      " [0. 1. 0. 0. 0.]\n",
      " [0. 0. 1. 0. 0.]\n",
      " [0. 0. 0. 1. 0.]\n",
      " [0. 0. 0. 0. 1.]]\n",
      "Eigen Vector: \n",
      " [[ 7.07106781e-01  7.07106781e-01 -5.63245914e-34 -5.63245914e-34\n",
      "  -5.63245914e-34]\n",
      " [ 3.53553391e-01 -3.53553391e-01 -5.00000000e-01 -5.00000000e-01\n",
      "  -5.00000000e-01]\n",
      " [ 3.53553391e-01 -3.53553391e-01  8.33333333e-01 -1.66666667e-01\n",
      "  -1.66666667e-01]\n",
      " [ 3.53553391e-01 -3.53553391e-01 -1.66666667e-01  8.33333333e-01\n",
      "  -1.66666667e-01]\n",
      " [ 3.53553391e-01 -3.53553391e-01 -1.66666667e-01 -1.66666667e-01\n",
      "   8.33333333e-01]]\n",
      "Katz Centrality:  {0: 0.6585046078685182, 1: 0.37628834735343897, 2: 0.37628834735343897, 3: 0.37628834735343897, 4: 0.37628834735343897}\n",
      "Page Rank Centrality:  {0: 0.47567668878363595, 1: 0.13108082780409108, 2: 0.13108082780409108, 3: 0.13108082780409108, 4: 0.13108082780409108}\n",
      "\n"
     ]
    }
   ],
   "source": [
    "# Defining the 3 different graphs.\n",
    "\n",
    "# Complete graph\n",
    "complete_graph = np.array([\n",
    "    [0, 1, 1, 1, 1],\n",
    "    [1, 0, 1, 1, 1],\n",
    "    [1, 1, 0, 1, 1],\n",
    "    [1, 1, 1, 0, 1],\n",
    "    [1, 1, 1, 1, 0]\n",
    "])\n",
    "\n",
    "# Cycle graph\n",
    "cycle_graph = np.array([\n",
    "    [0, 1, 0, 0, 1],\n",
    "    [1, 0, 1, 0, 0],\n",
    "    [0, 1, 0, 1, 0],\n",
    "    [0, 0, 1, 0, 1],\n",
    "    [1, 0, 0, 1, 0]\n",
    "])\n",
    "\n",
    "\n",
    "# Star topology\n",
    "star_graph = np.array([\n",
    "    [0, 1, 1, 1, 1],\n",
    "    [1, 0, 0, 0, 0],\n",
    "    [1, 0, 0, 0, 0],\n",
    "    [1, 0, 0, 0, 0],\n",
    "    [1, 0, 0, 0, 0]\n",
    "])\n",
    "\n",
    "index = 0\n",
    "graphs = [complete_graph, cycle_graph, star_graph]\n",
    "\n",
    "for graph in graphs:\n",
    "    print(\"------------------------------------------ Complete Graph ------------------------------------------\") if index == 0 else print(\"------------------------------------------ Cycle Graph ------------------------------------------\") if index == 1 else print(\"------------------------------------------ Star Graph ------------------------------------------\")\n",
    "    print(\"Degree Graph: \\n\", get_degree_graph(graph))\n",
    "    eigen_value, eigen_vector = find_eigens(graph)\n",
    "    print(\"Eigen Vector: \\n\", eigen_vector)\n",
    "    print(\"Katz Centrality: \", find_katz_centrality(graph, eigen_value))\n",
    "    print(\"Page Rank Centrality: \", find_pagerank_centrality(graph))\n",
    "    print()\n",
    "    index += 1\n"
   ]
  }
 ],
 "metadata": {
  "kernelspec": {
   "display_name": "Python 3",
   "language": "python",
   "name": "python3"
  },
  "language_info": {
   "codemirror_mode": {
    "name": "ipython",
    "version": 3
   },
   "file_extension": ".py",
   "mimetype": "text/x-python",
   "name": "python",
   "nbconvert_exporter": "python",
   "pygments_lexer": "ipython3",
   "version": "3.8.0"
  }
 },
 "nbformat": 4,
 "nbformat_minor": 2
}
