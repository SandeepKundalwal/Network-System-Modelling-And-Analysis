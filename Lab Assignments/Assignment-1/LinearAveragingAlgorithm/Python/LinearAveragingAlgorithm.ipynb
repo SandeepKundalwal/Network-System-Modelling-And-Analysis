{
 "cells": [
  {
   "cell_type": "code",
   "execution_count": 1,
   "metadata": {},
   "outputs": [],
   "source": [
    "import numpy as np;"
   ]
  },
  {
   "cell_type": "code",
   "execution_count": 2,
   "metadata": {},
   "outputs": [],
   "source": [
    "def findLinearAverage(state, graph):\n",
    "    num_nodes = len(state)\n",
    "    new_state = np.zeros(num_nodes)\n",
    "    for i in range(num_nodes):\n",
    "        neighbors = np.where(graph[i] == 1)[0]\n",
    "        num_neighbors = len(neighbors)\n",
    "        if num_neighbors > 0:\n",
    "            new_state[i] = np.sum(state[neighbors]) / num_neighbors\n",
    "        else:\n",
    "            new_state[i] = state[i]\n",
    "    return new_state"
   ]
  },
  {
   "cell_type": "code",
   "execution_count": 8,
   "metadata": {},
   "outputs": [],
   "source": [
    "def checkConvergenceAndLinearAverages(state, graph):\n",
    "    iteration = 0;\n",
    "    while True:\n",
    "        next_state = findLinearAverage(state, graph)\n",
    "        if(np.allclose(state,next_state, atol=1e-5)):\n",
    "            break\n",
    "\n",
    "        state = next_state\n",
    "        iteration += 1\n",
    "    \n",
    "    print(iteration + 1)\n",
    "    print(state)"
   ]
  },
  {
   "cell_type": "code",
   "execution_count": 9,
   "metadata": {},
   "outputs": [
    {
     "name": "stdout",
     "output_type": "stream",
     "text": [
      "2\n",
      "[0.2 0.2 0.2 0.2 0.2]\n",
      "17\n",
      "[0.20002051 0.19999217 0.19997465 0.19999217 0.20002051]\n",
      "17\n",
      "[0.38461539 0.38460012 0.38463064 0.38460012 0.38463064]\n"
     ]
    }
   ],
   "source": [
    "# Define initial_states\n",
    "initial_states = np.array([1., -1., 1., -1., 1.])\n",
    "\n",
    "# Defining the 3 different systems.\n",
    "# Complete graph\n",
    "complete_graph = np.ones((5,5))\n",
    "\n",
    "# Cycle graph\n",
    "cycle_graph = np.array([\n",
    "        [1, 1, 0, 0, 1],\n",
    "        [1, 1, 1, 0, 0],\n",
    "        [0, 1, 1, 1, 0],\n",
    "        [0, 0, 1, 1, 1],\n",
    "        [1, 0, 0, 1, 1]\n",
    "    ])\n",
    "\n",
    "\n",
    "# Star topology. center = node 1\n",
    "star_graph = np.array([\n",
    "        [1, 1, 1, 1, 1],\n",
    "        [1, 1, 0, 0, 0],\n",
    "        [1, 0, 1, 0, 0],\n",
    "        [1, 0, 0, 1, 0],\n",
    "        [1, 0, 0, 0, 1]\n",
    "    ])\n",
    "\n",
    "graphs = [complete_graph, cycle_graph, star_graph]\n",
    "\n",
    "for graph in graphs:\n",
    "    checkConvergenceAndLinearAverages(initial_states, graph)"
   ]
  }
 ],
 "metadata": {
  "kernelspec": {
   "display_name": "Python 3",
   "language": "python",
   "name": "python3"
  },
  "language_info": {
   "codemirror_mode": {
    "name": "ipython",
    "version": 3
   },
   "file_extension": ".py",
   "mimetype": "text/x-python",
   "name": "python",
   "nbconvert_exporter": "python",
   "pygments_lexer": "ipython3",
   "version": "3.11.2"
  },
  "orig_nbformat": 4
 },
 "nbformat": 4,
 "nbformat_minor": 2
}
